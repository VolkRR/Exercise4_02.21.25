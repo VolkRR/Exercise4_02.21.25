{
 "cells": [
  {
   "cell_type": "markdown",
   "id": "4ea2a7f6-0839-4fbb-aada-d0152ea52b97",
   "metadata": {},
   "source": [
    "## Assignment 2"
   ]
  },
  {
   "cell_type": "markdown",
   "id": "bd9a9597-c48d-43c6-b972-1d1526e2d664",
   "metadata": {},
   "source": [
    "#### 02/08/2025"
   ]
  },
  {
   "cell_type": "markdown",
   "id": "65a5523e-78c3-4c12-aa26-3c69a023fe49",
   "metadata": {},
   "source": [
    "#### Rachata Raktham"
   ]
  },
  {
   "cell_type": "code",
   "execution_count": 4,
   "id": "c4d02e83-04e0-45b1-8117-4613ec22f1f1",
   "metadata": {},
   "outputs": [
    {
     "name": "stdout",
     "output_type": "stream",
     "text": [
      "The result of the calculation was:\n",
      "    149769\n"
     ]
    }
   ],
   "source": [
    "# Defining variable names\n",
    "number_st = 100\n",
    "number_nd = 29\n",
    "\n",
    "# The sum then multiply the result by 3\n",
    "sum_result = number_st + number_nd\n",
    "multiplied_result = sum_result * 3\n",
    "\n",
    "# The second exponent of the multiplied_result\n",
    "final_result = multiplied_result ** 2\n",
    "\n",
    "# Print the result\n",
    "print( \"The result of the calculation was:\" )\n",
    "print( \"    \" + str(final_result) )"
   ]
  },
  {
   "cell_type": "code",
   "execution_count": 5,
   "id": "e74a10a3-a979-42a0-993f-1ffde55581b5",
   "metadata": {},
   "outputs": [
    {
     "name": "stdin",
     "output_type": "stream",
     "text": [
      "Enter your name:  John\n",
      "Enter your year of birth:  1995\n",
      "Enter your age:  26\n"
     ]
    },
    {
     "name": "stdout",
     "output_type": "stream",
     "text": [
      "Name: John\n",
      "Year of birth: 1995\n",
      "Age: 26\n",
      "Password: 95Joh676\n"
     ]
    }
   ],
   "source": [
    "# Get Inputs\n",
    "name = input( \"Enter your name: \" )\n",
    "year_of_birth = int( input( \"Enter your year of birth: \" ) )\n",
    "age = int( input( \"Enter your age: \" ) )\n",
    "\n",
    "# Create a the password\n",
    "last_two_digits = str( year_of_birth ) [ -2: ]  # Use only last two digits of the year of birth\n",
    "first_three_letters = name[ :3]   # Use only first three letters of the name\n",
    "age_squared = age ** 2  # Second power of the age\n",
    "\n",
    "# Combine parts\n",
    "password = last_two_digits + first_three_letters + str( age_squared )\n",
    "\n",
    "# The result\n",
    "print( \"Name: \" + name )\n",
    "print( \"Year of birth: \" + str( year_of_birth ) )\n",
    "print( \"Age: \" + str( age ) )\n",
    "print( \"Password: \" + password )"
   ]
  },
  {
   "cell_type": "code",
   "execution_count": 6,
   "id": "badd7fdb-c6b3-4a71-8971-2c57d0797a4f",
   "metadata": {},
   "outputs": [
    {
     "name": "stdin",
     "output_type": "stream",
     "text": [
      "Enter the first number:  5\n",
      "Enter the second number:  6\n"
     ]
    },
    {
     "name": "stdout",
     "output_type": "stream",
     "text": [
      "One of the numbers is even.\n"
     ]
    }
   ],
   "source": [
    "# Get input of two numbers\n",
    "number_st = int( input( \"Enter the first number: \" ) )\n",
    "number_nd = int( input( \"Enter the second number: \" ) )\n",
    "\n",
    "# Check both numbers are even\n",
    "if number_st % 2 == 0 and number_nd % 2 == 0:\n",
    "    print( \"Both numbers are even.\" )\n",
    "# Check one of them is even\n",
    "elif number_st % 2 == 0 or number_nd % 2 == 0:\n",
    "    print( \"One of the numbers is even.\" )\n",
    "# Check neither number is even, must be odd\n",
    "else :\n",
    "    print( \"Both numbers are odd.\" )"
   ]
  },
  {
   "cell_type": "code",
   "execution_count": 7,
   "id": "19cb77aa-c10a-49c3-9064-2d925fe01fdd",
   "metadata": {},
   "outputs": [
    {
     "name": "stdin",
     "output_type": "stream",
     "text": [
      "Give an integer:  5\n"
     ]
    },
    {
     "name": "stdout",
     "output_type": "stream",
     "text": [
      "The sum was: 10\n"
     ]
    }
   ],
   "source": [
    "# Get input\n",
    "integer = int (input ( \"Give an integer: \" ) )\n",
    "\n",
    "# The sum of all positive numbers from 0 - inputted number\n",
    "total_sum = sum (range ( integer ) )\n",
    "\n",
    "# The result\n",
    "print( \"The sum was:\", total_sum )"
   ]
  },
  {
   "cell_type": "code",
   "execution_count": 8,
   "id": "38027b6d-c839-4534-a4c4-f53b969912d0",
   "metadata": {},
   "outputs": [
    {
     "name": "stdout",
     "output_type": "stream",
     "text": [
      "\n",
      "Player 1, it's your turn!\n"
     ]
    },
    {
     "name": "stdin",
     "output_type": "stream",
     "text": [
      "Your guess:  2\n"
     ]
    },
    {
     "name": "stdout",
     "output_type": "stream",
     "text": [
      "    Try a smaller number.\n"
     ]
    },
    {
     "name": "stdin",
     "output_type": "stream",
     "text": [
      "Your guess:  1\n"
     ]
    },
    {
     "name": "stdout",
     "output_type": "stream",
     "text": [
      "    That's right! Number of tries: 2\n",
      "\n",
      "Player 2, it's your turn!\n"
     ]
    },
    {
     "name": "stdin",
     "output_type": "stream",
     "text": [
      "Your guess:  6\n"
     ]
    },
    {
     "name": "stdout",
     "output_type": "stream",
     "text": [
      "    Try a greater number.\n"
     ]
    },
    {
     "name": "stdin",
     "output_type": "stream",
     "text": [
      "Your guess:  9\n"
     ]
    },
    {
     "name": "stdout",
     "output_type": "stream",
     "text": [
      "    That's right! Number of tries: 2\n",
      "\n",
      "It's a tie !\n"
     ]
    }
   ],
   "source": [
    "import random\n",
    "\n",
    "# Player 1\n",
    "dealer_number = random.randint( 0 , 10 )  # Dealer generates a random number between 0 and 10\n",
    "print( \"\\nPlayer 1, it's your turn!\" )\n",
    "player1_attempts = 0\n",
    "\n",
    "while True :                               # The code inside this loop will run repeatedly until its false --> break\n",
    "    player_guess = int( input( \"Your guess: \" ) )\n",
    "    player1_attempts += 1\n",
    "\n",
    "    if player_guess < dealer_number :\n",
    "        print( \"    Try a greater number.\" )\n",
    "    elif player_guess > dealer_number :\n",
    "        print( \"    Try a smaller number.\" )\n",
    "    else :\n",
    "        print(\"    That's right! Number of tries: \" + str( player1_attempts ) )\n",
    "        break\n",
    "\n",
    "# Player 2\n",
    "dealer_number = random.randint( 0, 10 )  # Dealer generates a new random number between 0 and 10\n",
    "print( \"\\nPlayer 2, it's your turn!\" )\n",
    "player2_attempts = 0\n",
    "\n",
    "while True :\n",
    "    player_guess = int( input( \"Your guess: \" ) )\n",
    "    player2_attempts += 1\n",
    "\n",
    "    if player_guess < dealer_number:\n",
    "        print(\"    Try a greater number.\")\n",
    "    elif player_guess > dealer_number:\n",
    "        print(\"    Try a smaller number.\")\n",
    "    else :\n",
    "        print(\"    That's right! Number of tries: \" + str( player2_attempts ) )\n",
    "        break\n",
    "\n",
    "# Determine the winner\n",
    "if player1_attempts < player2_attempts :\n",
    "    print( \"\\nWinner is Player 1 !\" )\n",
    "elif player2_attempts < player1_attempts :\n",
    "    print( \"\\nWinner is Player 2 !\" )\n",
    "else :\n",
    "    print( \"\\nIt's a tie !\" )"
   ]
  },
  {
   "cell_type": "code",
   "execution_count": null,
   "id": "e9f2524b-4511-4452-9b5c-8de9778607c1",
   "metadata": {},
   "outputs": [],
   "source": []
  }
 ],
 "metadata": {
  "kernelspec": {
   "display_name": "Python 3 (ipykernel)",
   "language": "python",
   "name": "python3"
  },
  "language_info": {
   "codemirror_mode": {
    "name": "ipython",
    "version": 3
   },
   "file_extension": ".py",
   "mimetype": "text/x-python",
   "name": "python",
   "nbconvert_exporter": "python",
   "pygments_lexer": "ipython3",
   "version": "3.9.12"
  }
 },
 "nbformat": 4,
 "nbformat_minor": 5
}
